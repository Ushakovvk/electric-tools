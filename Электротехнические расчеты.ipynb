{
 "cells": [
  {
   "cell_type": "markdown",
   "metadata": {},
   "source": [
    "Электротехнические расчеты"
   ]
  },
  {
   "cell_type": "code",
   "execution_count": 1,
   "metadata": {},
   "outputs": [],
   "source": [
    "import math"
   ]
  },
  {
   "cell_type": "code",
   "execution_count": 15,
   "metadata": {},
   "outputs": [],
   "source": [
    "def current_calc(kW, kU_l, cos_u=1, n_ph=3, show=1):\n",
    "    I = kW / math.sqrt(3) / kU_l / cos_u\n",
    "    if show:\n",
    "        print(f'{I:.1f} А')\n",
    "    return I\n",
    "\n",
    "def tt_select(Pmax, Pmin, kU_l, K_tt, cos_u=1):\n",
    "    Imax = current_calc(Pmax, kU_l, cos_u, show=0)\n",
    "    Imin = current_calc(Pmin, kU_l, cos_u, show=0)\n",
    "    print(f'Pmax={Pmax} кВт')\n",
    "    print(f'Imax={Imax:.1f} А'.replace('.',','))\n",
    "    print(f'K_tt={K_tt:.0f}'.replace('.',','))\n",
    "    print(f'{Imax:.1f}/{K_tt:.0f}={Imax/K_tt:.1f}   {Imax/K_tt/5*100:.0f}%>40%'.replace('.',','))\n",
    "    print(f'Pmin={Pmin} кВт')\n",
    "    print(f'Imin={Imin:.1f} А'.replace('.',','))\n",
    "    print(f'{Imin:.1f}/{K_tt:.0f}={Imin/K_tt:.2f}   {Imin/K_tt/5*100:.1f}%>5%'.replace('.',','))\n",
    "\n",
    "def volt_loss(kW, kU_l, r, x, L, cos_u=1, n_ph=3):\n",
    "    I = kW / math.sqrt(3) / kU_l / cos_u\n",
    "    if n_ph==3:\n",
    "        b = 1\n",
    "    # dU = b * I * (r * L * cos_u + x * L * math.sin(math.acos(cos_u)))\n",
    "    dU = kW * L * (r + x * math.tan(math.acos(cos_u))) / kU_l\n",
    "    print(f'{dU:.2f} В')\n",
    "    print(f'{dU * 100 / kU_l / 1000:.3f} %')\n",
    "    \n",
    "def eval_dU(P, cosu, R, X, L):\n",
    "    Un = 0.4\n",
    "    Ib = P / math.sqrt(3) / Un / cosu\n",
    "    sinu = math.sin(math.acos(cosu))\n",
    "    dU = math.sqrt(3) * Ib * (R * cosu + X * sinu) * L\n",
    "    dU_ = 100 * dU / Un / 1000\n",
    "    print(f'''Ток {Ib:.1f} А\n",
    "Потери {dU:.1f} В\n",
    "Потери {dU_:.1f} %''')"
   ]
  },
  {
   "cell_type": "code",
   "execution_count": 40,
   "metadata": {},
   "outputs": [
    {
     "name": "stdout",
     "output_type": "stream",
     "text": [
      "20.91 В\n",
      "0.332 %\n"
     ]
    }
   ],
   "source": [
    "volt_loss(400, 6.3, 0.443, 0.291, 0.668)"
   ]
  },
  {
   "cell_type": "code",
   "execution_count": 42,
   "metadata": {},
   "outputs": [
    {
     "data": {
      "text/plain": [
       "0.194388"
      ]
     },
     "execution_count": 42,
     "metadata": {},
     "output_type": "execute_result"
    }
   ],
   "source": [
    "0.291*0.668"
   ]
  },
  {
   "cell_type": "code",
   "execution_count": 9,
   "metadata": {},
   "outputs": [
    {
     "name": "stdout",
     "output_type": "stream",
     "text": [
      "165.0 А\n"
     ]
    },
    {
     "data": {
      "text/plain": [
       "164.9572197684645"
      ]
     },
     "execution_count": 9,
     "metadata": {},
     "output_type": "execute_result"
    }
   ],
   "source": [
    "current_calc(1800, 6.3)"
   ]
  },
  {
   "cell_type": "code",
   "execution_count": 14,
   "metadata": {},
   "outputs": [
    {
     "name": "stdout",
     "output_type": "stream",
     "text": [
      "164.9572197684645\n",
      "147.43 В\n",
      "2.340 %\n"
     ]
    }
   ],
   "source": [
    "volt_loss(1800, 6.3, 0.258 , 0.078, 2)"
   ]
  },
  {
   "cell_type": "code",
   "execution_count": 5,
   "metadata": {},
   "outputs": [
    {
     "name": "stdout",
     "output_type": "stream",
     "text": [
      "Pmax=650 кВт\n",
      "Imax=35,7 А\n",
      "K_tt=15\n",
      "35,7/15=2,4   48%>40%\n",
      "Pmin=70 кВт\n",
      "Imin=3,8 А\n",
      "3,8/15=0,26   5,1%>5%\n"
     ]
    }
   ],
   "source": [
    "tt_select(650, 70, 10.5, 75/5, 1)"
   ]
  },
  {
   "cell_type": "code",
   "execution_count": 6,
   "metadata": {},
   "outputs": [
    {
     "name": "stdout",
     "output_type": "stream",
     "text": [
      "Pmax=650 кВт\n",
      "Imax=938,2 А\n",
      "K_tt=200\n",
      "938,2/200=4,7   94%>40%\n",
      "Pmin=70 кВт\n",
      "Imin=101,0 А\n",
      "101,0/200=0,51   10,1%>5%\n"
     ]
    }
   ],
   "source": [
    "tt_select(650, 70, 0.4, 1000/5, 1)"
   ]
  },
  {
   "cell_type": "code",
   "execution_count": 8,
   "metadata": {
    "scrolled": false
   },
   "outputs": [
    {
     "name": "stdout",
     "output_type": "stream",
     "text": [
      "Сечение 4х95 мм2\n",
      "Ток 90.2 А\n",
      "Потери 24.6 В\n",
      "Потери 6.2 %\n"
     ]
    }
   ],
   "source": [
    "print('Сечение 4х120 мм2')\n",
    "P = 60\n",
    "cosu = 0.96\n",
    "R = 0.288\n",
    "X = 0.0745\n",
    "L = 0.530\n",
    "eval_dU(P, cosu, R, X, L)"
   ]
  },
  {
   "cell_type": "markdown",
   "metadata": {},
   "source": [
    "Сопротивление трансформатора:"
   ]
  },
  {
   "cell_type": "code",
   "execution_count": 21,
   "metadata": {},
   "outputs": [],
   "source": [
    "uk = 5.5 # напряжение к.з.\n",
    "Utr = 10.5 # междуфазное U на стороне, к которой приводится сопротивление, кВ\n",
    "Str = 1000 # мощность трансформатора, кВА\n",
    "Pk = 11600 # потери к.з., Вт"
   ]
  },
  {
   "cell_type": "code",
   "execution_count": 22,
   "metadata": {},
   "outputs": [
    {
     "name": "stdout",
     "output_type": "stream",
     "text": [
      "Zтр = 6.06 Ом\n"
     ]
    }
   ],
   "source": [
    "Ztr = 10 * uk * Utr**2 / Str\n",
    "print(f'Zтр = {Ztr:.2f} Ом')"
   ]
  },
  {
   "cell_type": "code",
   "execution_count": 9,
   "metadata": {},
   "outputs": [
    {
     "name": "stdout",
     "output_type": "stream",
     "text": [
      "Rтр = 1.28 Ом\n"
     ]
    }
   ],
   "source": [
    "Rtr = Pk * Utr**2 / Str**2\n",
    "print(f'Rтр = {Rtr:.2f} Ом')"
   ]
  },
  {
   "cell_type": "code",
   "execution_count": 10,
   "metadata": {},
   "outputs": [
    {
     "name": "stdout",
     "output_type": "stream",
     "text": [
      "Xтр = 5.93 Ом\n"
     ]
    }
   ],
   "source": [
    "Xtr = math.sqrt(Ztr**2 - Rtr**2)\n",
    "print(f'Xтр = {Xtr:.2f} Ом')"
   ]
  },
  {
   "cell_type": "markdown",
   "metadata": {},
   "source": [
    "Ток короткого замыкания за трансформатором:"
   ]
  },
  {
   "cell_type": "code",
   "execution_count": 11,
   "metadata": {},
   "outputs": [],
   "source": [
    "Is = 7.65"
   ]
  },
  {
   "cell_type": "code",
   "execution_count": 12,
   "metadata": {},
   "outputs": [
    {
     "name": "stdout",
     "output_type": "stream",
     "text": [
      "Xc = 0.79 Ом\n"
     ]
    }
   ],
   "source": [
    "Xc = Utr / math.sqrt(3) / Is\n",
    "print(f'Xc = {Xc:.2f} Ом')"
   ]
  },
  {
   "cell_type": "code",
   "execution_count": 19,
   "metadata": {},
   "outputs": [],
   "source": [
    "R = 0.329\n",
    "X = 0.081\n",
    "L = 0.500\n",
    "\n",
    "RL = R * L\n",
    "XL = X * L"
   ]
  },
  {
   "cell_type": "code",
   "execution_count": 13,
   "metadata": {},
   "outputs": [],
   "source": [
    "RL = 0.87\n",
    "XL = 0.51"
   ]
  },
  {
   "cell_type": "code",
   "execution_count": 14,
   "metadata": {},
   "outputs": [
    {
     "name": "stdout",
     "output_type": "stream",
     "text": [
      "Z = 1.57 Ом\n"
     ]
    }
   ],
   "source": [
    "Z = math.sqrt((RL)**2 + (Xc+XL)**2)\n",
    "print(f'Z = {Z:.2f} Ом')"
   ]
  },
  {
   "cell_type": "code",
   "execution_count": 23,
   "metadata": {},
   "outputs": [
    {
     "name": "stdout",
     "output_type": "stream",
     "text": [
      "Z = 7.54 Ом\n"
     ]
    }
   ],
   "source": [
    "Z = math.sqrt((Rtr+RL)**2 + (Xtr+Xc+XL)**2)\n",
    "print(f'Z = {Z:.2f} Ом')"
   ]
  },
  {
   "cell_type": "code",
   "execution_count": 25,
   "metadata": {},
   "outputs": [
    {
     "name": "stdout",
     "output_type": "stream",
     "text": [
      "Iкз(3) = 0.804 кА\n"
     ]
    }
   ],
   "source": [
    "Ikz_3 = 1000 * Utr / math.sqrt(3) / Z / 1000\n",
    "print(f'Iкз(3) = {Ikz_3:.3f} кА')"
   ]
  },
  {
   "cell_type": "code",
   "execution_count": 27,
   "metadata": {},
   "outputs": [
    {
     "name": "stdout",
     "output_type": "stream",
     "text": [
      "Iкз(2) = 0.402 кА\n"
     ]
    }
   ],
   "source": [
    "Ikz_2 = 0.5 * Ikz_3\n",
    "print(f'Iкз(2) = {Ikz_2:.3f} кА')"
   ]
  },
  {
   "cell_type": "code",
   "execution_count": 30,
   "metadata": {},
   "outputs": [
    {
     "name": "stdout",
     "output_type": "stream",
     "text": [
      "Iкз(3)_0.4 = 12.18 кА\n"
     ]
    }
   ],
   "source": [
    "Ikz_3_04 = Ikz_3 * Utr / 0.4 / math.sqrt(3)\n",
    "print(f'Iкз(3)_0.4 = {Ikz_3_04:.2f} кА')"
   ]
  },
  {
   "cell_type": "code",
   "execution_count": 80,
   "metadata": {},
   "outputs": [
    {
     "data": {
      "text/plain": [
       "0.1986"
      ]
     },
     "execution_count": 80,
     "metadata": {},
     "output_type": "execute_result"
    }
   ],
   "source": [
    "198.6 / 1000"
   ]
  },
  {
   "cell_type": "code",
   "execution_count": null,
   "metadata": {},
   "outputs": [],
   "source": []
  }
 ],
 "metadata": {
  "kernelspec": {
   "display_name": "Python 3",
   "language": "python",
   "name": "python3"
  },
  "language_info": {
   "codemirror_mode": {
    "name": "ipython",
    "version": 3
   },
   "file_extension": ".py",
   "mimetype": "text/x-python",
   "name": "python",
   "nbconvert_exporter": "python",
   "pygments_lexer": "ipython3",
   "version": "3.7.4"
  }
 },
 "nbformat": 4,
 "nbformat_minor": 2
}
