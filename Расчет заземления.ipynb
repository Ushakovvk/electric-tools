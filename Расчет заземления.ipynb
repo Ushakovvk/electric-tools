{
 "cells": [
  {
   "cell_type": "code",
   "execution_count": 1,
   "metadata": {},
   "outputs": [],
   "source": [
    "from math import *\n",
    "from scipy.interpolate import interp2d\n",
    "import pandas as pd\n",
    "import numpy as np"
   ]
  },
  {
   "cell_type": "code",
   "execution_count": 2,
   "metadata": {},
   "outputs": [
    {
     "name": "stderr",
     "output_type": "stream",
     "text": [
      "C:\\Users\\Vadim\\miniconda3\\lib\\site-packages\\scipy\\interpolate\\_fitpack_impl.py:977: RuntimeWarning: No more knots can be added because the number of B-spline\n",
      "coefficients already exceeds the number of data points m.\n",
      "Probable causes: either s or m too small. (fp>s)\n",
      "\tkx,ky=1,1 nx,ny=6,9 m=27 fp=0.000182 s=0.000000\n",
      "  warnings.warn(RuntimeWarning(_iermess2[ierm][0] + _mess))\n"
     ]
    }
   ],
   "source": [
    "Kz_g = pd.read_excel('Коэф исп заземли.xlsx',sheet_name='Кг',index_col='n')\n",
    "XYZ_g = Kz_g.unstack().reset_index()\n",
    "XYZ_g.columns = ['a/L', 'n', 'K']\n",
    "interpol_Kg = interp2d(x=XYZ_g['a/L'], y=XYZ_g['n'], z=XYZ_g['K'])"
   ]
  },
  {
   "cell_type": "code",
   "execution_count": 3,
   "metadata": {},
   "outputs": [
    {
     "name": "stderr",
     "output_type": "stream",
     "text": [
      "C:\\Users\\Vadim\\miniconda3\\lib\\site-packages\\scipy\\interpolate\\_fitpack_impl.py:977: RuntimeWarning: No more knots can be added because the number of B-spline\n",
      "coefficients already exceeds the number of data points m.\n",
      "Probable causes: either s or m too small. (fp>s)\n",
      "\tkx,ky=1,1 nx,ny=6,8 m=21 fp=0.000029 s=0.000000\n",
      "  warnings.warn(RuntimeWarning(_iermess2[ierm][0] + _mess))\n"
     ]
    }
   ],
   "source": [
    "Kz_v = pd.read_excel('Коэф исп заземли.xlsx',sheet_name='Кв',index_col='n')\n",
    "XYZ_v = Kz_v.unstack().reset_index()\n",
    "XYZ_v.columns = ['a/L', 'n', 'K']\n",
    "interpol_Kv = interp2d(x=XYZ_v['a/L'], y=XYZ_v['n'], z=XYZ_v['K'])"
   ]
  },
  {
   "cell_type": "markdown",
   "metadata": {},
   "source": [
    "Произвести расчет заземляющего устройства для электроустановок напряжением 400 В. \n",
    "\n",
    "Грунт – суглинок. \n",
    "\n",
    "Стержни можно разместить по контуру КТП, имеющего в плане размеры 3 х 3 м.\n",
    "\n",
    "Глубина заложения стержней от поверхности земли Н = 0,7 м."
   ]
  },
  {
   "cell_type": "markdown",
   "metadata": {},
   "source": [
    "1. Примем в качестве заземлителей стальные уголки длиной lc = 2.5 м 50х50х4 мм. Соединение заземлителей произведем на сварке стальной полосой шириной b = 40 мм."
   ]
  },
  {
   "cell_type": "code",
   "execution_count": 84,
   "metadata": {},
   "outputs": [],
   "source": [
    "h = 0.7\n",
    "l = 3\n",
    "d = 0.05\n",
    "b = 0.04\n",
    "h1 = h + l / 2\n",
    "hg = 0.7"
   ]
  },
  {
   "cell_type": "markdown",
   "metadata": {},
   "source": [
    "2. Удельное сопротивление грунта с учетом сезонных колебаний влажности для вертикальных стержней, Ом*м:"
   ]
  },
  {
   "cell_type": "code",
   "execution_count": 85,
   "metadata": {},
   "outputs": [],
   "source": [
    "r_0 = 100"
   ]
  },
  {
   "cell_type": "markdown",
   "metadata": {},
   "source": [
    "3. Сопротивление растеканию тока одиночного стержня, Ом"
   ]
  },
  {
   "cell_type": "code",
   "execution_count": 86,
   "metadata": {},
   "outputs": [
    {
     "name": "stdout",
     "output_type": "stream",
     "text": [
      "Rв = 27.5 Ом\n"
     ]
    }
   ],
   "source": [
    "Rv = 0.366 * r_0 / l * (log10(2.1 * l / d) + 0.5 * log10((4 * h1 + l)/(4 * h1 - l)))\n",
    "print(f'Rв = {Rv:.1f} Ом')"
   ]
  },
  {
   "cell_type": "markdown",
   "metadata": {},
   "source": [
    "5. Теоретическое число вертикальных заземлителей"
   ]
  },
  {
   "cell_type": "code",
   "execution_count": 99,
   "metadata": {},
   "outputs": [
    {
     "name": "stdout",
     "output_type": "stream",
     "text": [
      "n_теор = 7 шт\n"
     ]
    }
   ],
   "source": [
    "nt = ceil(Rv / 4)\n",
    "print(f'n_теор = {nt} шт')\n",
    "nt = 10"
   ]
  },
  {
   "cell_type": "markdown",
   "metadata": {},
   "source": [
    "4. Сопротивление горизонтального заземлителя"
   ]
  },
  {
   "cell_type": "code",
   "execution_count": 115,
   "metadata": {},
   "outputs": [
    {
     "name": "stdout",
     "output_type": "stream",
     "text": [
      "30\n"
     ]
    }
   ],
   "source": [
    "L = (nt) * l * 1\n",
    "print(L)"
   ]
  },
  {
   "cell_type": "code",
   "execution_count": 116,
   "metadata": {},
   "outputs": [
    {
     "name": "stdout",
     "output_type": "stream",
     "text": [
      "Rг = 5.9 Ом\n"
     ]
    }
   ],
   "source": [
    "Rg = 0.366 * r_0 / L * log10((2 * L**2) / (b * hg))\n",
    "print(f'Rг = {Rg:.1f} Ом')"
   ]
  },
  {
   "cell_type": "code",
   "execution_count": 117,
   "metadata": {},
   "outputs": [
    {
     "name": "stdout",
     "output_type": "stream",
     "text": [
      "a = 3.0\n",
      "a/L = 1.0\n"
     ]
    }
   ],
   "source": [
    "a = L / (nt)\n",
    "a_L = a / l\n",
    "print(f'a = {a}')\n",
    "print(f'a/L = {a_L}')"
   ]
  },
  {
   "cell_type": "markdown",
   "metadata": {},
   "source": [
    "принимаем nг и nв по Таблице:"
   ]
  },
  {
   "cell_type": "code",
   "execution_count": 118,
   "metadata": {},
   "outputs": [
    {
     "name": "stdout",
     "output_type": "stream",
     "text": [
      "n_г = 0.34\n",
      "n_в = 0.55\n"
     ]
    }
   ],
   "source": [
    "ng = interpol_Kg(round(a_L), nt)[0]\n",
    "#ng = 0.4\n",
    "nv = interpol_Kv(round(a_L), nt)[0]\n",
    "print(f'n_г = {ng:.2f}')\n",
    "print(f'n_в = {nv:.2f}')"
   ]
  },
  {
   "cell_type": "markdown",
   "metadata": {},
   "source": [
    "Результирующее сопротивление:"
   ]
  },
  {
   "cell_type": "code",
   "execution_count": 119,
   "metadata": {},
   "outputs": [
    {
     "name": "stdout",
     "output_type": "stream",
     "text": [
      "Rз = 3.9 Ом\n"
     ]
    }
   ],
   "source": [
    "Rz = (Rv * Rg) / (Rv * ng + Rg * nv * nt)\n",
    "print(f'Rз = {Rz:.1f} Ом')"
   ]
  },
  {
   "cell_type": "code",
   "execution_count": null,
   "metadata": {},
   "outputs": [],
   "source": []
  },
  {
   "cell_type": "code",
   "execution_count": null,
   "metadata": {},
   "outputs": [],
   "source": []
  }
 ],
 "metadata": {
  "kernelspec": {
   "display_name": "Python 3",
   "language": "python",
   "name": "python3"
  },
  "language_info": {
   "codemirror_mode": {
    "name": "ipython",
    "version": 3
   },
   "file_extension": ".py",
   "mimetype": "text/x-python",
   "name": "python",
   "nbconvert_exporter": "python",
   "pygments_lexer": "ipython3",
   "version": "3.7.6"
  }
 },
 "nbformat": 4,
 "nbformat_minor": 2
}
